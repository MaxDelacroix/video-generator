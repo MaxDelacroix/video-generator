{
  "nbformat": 4,
  "nbformat_minor": 0,
  "metadata": {
    "colab": {
      "provenance": [],
      "mount_file_id": "1AIQex8u3TURntNomHUnQdEJmAanQh8GG",
      "authorship_tag": "ABX9TyP7Vr23AerwmfNcgyRYYBt1",
      "include_colab_link": true
    },
    "kernelspec": {
      "name": "python3",
      "display_name": "Python 3"
    },
    "language_info": {
      "name": "python"
    }
  },
  "cells": [
    {
      "cell_type": "markdown",
      "metadata": {
        "id": "view-in-github",
        "colab_type": "text"
      },
      "source": [
        "<a href=\"https://colab.research.google.com/github/MaxDelacroix/video-generator/blob/main/3_6_Video_Tests.ipynb\" target=\"_parent\"><img src=\"https://colab.research.google.com/assets/colab-badge.svg\" alt=\"Open In Colab\"/></a>"
      ]
    },
    {
      "cell_type": "markdown",
      "source": [
        "# Скрытная часть"
      ],
      "metadata": {
        "id": "vogG5zpJ8Ez-"
      }
    },
    {
      "cell_type": "code",
      "source": [
        "PIXABAY_API_KEY = ''  # Замените на ваш API ключ"
      ],
      "metadata": {
        "id": "sQ90r6iG8JvQ"
      },
      "execution_count": null,
      "outputs": []
    },
    {
      "cell_type": "markdown",
      "source": [
        "# Настройки"
      ],
      "metadata": {
        "id": "knhw5c6NEIZL"
      }
    },
    {
      "cell_type": "code",
      "source": [
        "search_query = 'Minecraft'\n",
        "per_page = 5\n",
        "logo_path = '/content/drive/MyDrive/Colab Notebooks/semen.png'"
      ],
      "metadata": {
        "id": "-DZErSDl9C5o"
      },
      "execution_count": null,
      "outputs": []
    },
    {
      "cell_type": "markdown",
      "source": [
        "# Основная часть"
      ],
      "metadata": {
        "id": "_YdWjF9c9Fky"
      }
    },
    {
      "cell_type": "code",
      "source": [
        "import requests\n",
        "import os\n",
        "from moviepy.editor import VideoFileClip, concatenate_videoclips, ImageClip, CompositeVideoClip\n",
        "from IPython.display import Video, display"
      ],
      "metadata": {
        "colab": {
          "base_uri": "https://localhost:8080/"
        },
        "id": "zrliAqGz9BuI",
        "outputId": "e8287ffe-b1e3-4ee7-b4e3-73f55487aa6f"
      },
      "execution_count": null,
      "outputs": [
        {
          "output_type": "stream",
          "name": "stderr",
          "text": [
            "WARNING:py.warnings:/usr/local/lib/python3.11/dist-packages/moviepy/video/io/sliders.py:61: SyntaxWarning: \"is\" with a literal. Did you mean \"==\"?\n",
            "  if event.key is 'enter':\n",
            "\n"
          ]
        }
      ]
    },
    {
      "cell_type": "markdown",
      "source": [
        "скачивание видео"
      ],
      "metadata": {
        "id": "qYzqFxVNE6vC"
      }
    },
    {
      "cell_type": "code",
      "source": [
        "def download_pixabay_videos(query, per_page=5):\n",
        "    url = 'https://pixabay.com/api/videos/'\n",
        "\n",
        "    params = {\n",
        "        'key': PIXABAY_API_KEY,\n",
        "        'q': query,\n",
        "        'per_page': per_page,\n",
        "        'safesearch': 'true'\n",
        "    }\n",
        "\n",
        "    response = requests.get(url, params=params)\n",
        "    if response.status_code == 200:\n",
        "        videos = response.json()['hits']\n",
        "        video_paths = []\n",
        "        for idx, video in enumerate(videos):\n",
        "            video_url = video['videos'].get('large', video['videos'].get('medium', video['videos']['small']))['url']\n",
        "            video_response = requests.get(video_url)\n",
        "            video_filename = f'/content/video_{idx}.mp4'\n",
        "            with open(video_filename, 'wb') as f:\n",
        "                f.write(video_response.content)\n",
        "            video_paths.append(video_filename)\n",
        "        return video_paths\n",
        "    else:\n",
        "        print('Ошибка при запросе к Pixabay API:', response.status_code)\n",
        "        return []"
      ],
      "metadata": {
        "id": "fl0HxIfmEMQA"
      },
      "execution_count": null,
      "outputs": []
    },
    {
      "cell_type": "markdown",
      "source": [
        "наложение логотипа"
      ],
      "metadata": {
        "id": "774i84tmFG0K"
      }
    },
    {
      "cell_type": "code",
      "source": [
        "def overlay_logo_on_video(video_path, logo_path, output_path):\n",
        "    video_clip = VideoFileClip(video_path)\n",
        "    logo = (ImageClip(logo_path)\n",
        "            .set_duration(video_clip.duration)\n",
        "            .resize(height=100)\n",
        "            .margin(right=8, top=8, opacity=0)\n",
        "            .set_pos((\"right\", \"top\")))\n",
        "    final = CompositeVideoClip([video_clip, logo])\n",
        "    final.write_videofile(output_path, codec='libx264', audio_codec='aac')\n",
        "    video_clip.close()\n",
        "    final.close()"
      ],
      "metadata": {
        "id": "T7h5WKl8E-yU"
      },
      "execution_count": null,
      "outputs": []
    },
    {
      "cell_type": "markdown",
      "source": [
        "скачивание и обработка видео"
      ],
      "metadata": {
        "id": "xiaUp9d4FKxy"
      }
    },
    {
      "cell_type": "code",
      "source": [
        "video_paths = download_pixabay_videos(search_query, per_page)\n",
        "processed_paths = []\n",
        "\n",
        "for path in video_paths:\n",
        "    output = f\"/content/logo_{os.path.basename(path)}\"\n",
        "    overlay_logo_on_video(path, logo_path, output)\n",
        "    processed_paths.append(output)"
      ],
      "metadata": {
        "colab": {
          "base_uri": "https://localhost:8080/"
        },
        "id": "mRo5g1PzFSEt",
        "outputId": "18277558-5555-41af-9ae5-80243aa0d5b7"
      },
      "execution_count": null,
      "outputs": [
        {
          "output_type": "stream",
          "name": "stdout",
          "text": [
            "Moviepy - Building video /content/logo_video_0.mp4.\n",
            "Moviepy - Writing video /content/logo_video_0.mp4\n",
            "\n"
          ]
        },
        {
          "output_type": "stream",
          "name": "stderr",
          "text": [
            "t: 100%|██████████| 672/672 [04:44<00:00,  2.73it/s, now=None]WARNING:py.warnings:/usr/local/lib/python3.11/dist-packages/moviepy/video/io/ffmpeg_reader.py:123: UserWarning: Warning: in file /content/video_0.mp4, 24883200 bytes wanted but 0 bytes read,at frame 671/672, at time 27.99/27.99 sec. Using the last valid frame instead.\n",
            "  warnings.warn(\"Warning: in file %s, \"%(self.filename)+\n",
            "\n"
          ]
        },
        {
          "output_type": "stream",
          "name": "stdout",
          "text": [
            "Moviepy - Done !\n",
            "Moviepy - video ready /content/logo_video_0.mp4\n",
            "Moviepy - Building video /content/logo_video_1.mp4.\n",
            "Moviepy - Writing video /content/logo_video_1.mp4\n",
            "\n"
          ]
        },
        {
          "output_type": "stream",
          "name": "stderr",
          "text": []
        },
        {
          "output_type": "stream",
          "name": "stdout",
          "text": [
            "Moviepy - Done !\n",
            "Moviepy - video ready /content/logo_video_1.mp4\n",
            "Moviepy - Building video /content/logo_video_2.mp4.\n",
            "Moviepy - Writing video /content/logo_video_2.mp4\n",
            "\n"
          ]
        },
        {
          "output_type": "stream",
          "name": "stderr",
          "text": [
            "t: 100%|██████████| 256/256 [00:45<00:00,  3.72it/s, now=None]WARNING:py.warnings:/usr/local/lib/python3.11/dist-packages/moviepy/video/io/ffmpeg_reader.py:123: UserWarning: Warning: in file /content/video_2.mp4, 6220800 bytes wanted but 0 bytes read,at frame 255/256, at time 10.62/10.63 sec. Using the last valid frame instead.\n",
            "  warnings.warn(\"Warning: in file %s, \"%(self.filename)+\n",
            "\n"
          ]
        },
        {
          "output_type": "stream",
          "name": "stdout",
          "text": [
            "Moviepy - Done !\n",
            "Moviepy - video ready /content/logo_video_2.mp4\n",
            "Moviepy - Building video /content/logo_video_3.mp4.\n",
            "MoviePy - Writing audio in logo_video_3TEMP_MPY_wvf_snd.mp4\n"
          ]
        },
        {
          "output_type": "stream",
          "name": "stderr",
          "text": []
        },
        {
          "output_type": "stream",
          "name": "stdout",
          "text": [
            "MoviePy - Done.\n",
            "Moviepy - Writing video /content/logo_video_3.mp4\n",
            "\n"
          ]
        },
        {
          "output_type": "stream",
          "name": "stderr",
          "text": [
            "t: 100%|██████████| 224/224 [01:21<00:00,  1.44it/s, now=None]WARNING:py.warnings:/usr/local/lib/python3.11/dist-packages/moviepy/video/io/ffmpeg_reader.py:123: UserWarning: Warning: in file /content/video_3.mp4, 26542080 bytes wanted but 0 bytes read,at frame 223/224, at time 9.29/9.30 sec. Using the last valid frame instead.\n",
            "  warnings.warn(\"Warning: in file %s, \"%(self.filename)+\n",
            "\n"
          ]
        },
        {
          "output_type": "stream",
          "name": "stdout",
          "text": [
            "Moviepy - Done !\n",
            "Moviepy - video ready /content/logo_video_3.mp4\n",
            "Moviepy - Building video /content/logo_video_4.mp4.\n",
            "Moviepy - Writing video /content/logo_video_4.mp4\n",
            "\n"
          ]
        },
        {
          "output_type": "stream",
          "name": "stderr",
          "text": []
        },
        {
          "output_type": "stream",
          "name": "stdout",
          "text": [
            "Moviepy - Done !\n",
            "Moviepy - video ready /content/logo_video_4.mp4\n"
          ]
        }
      ]
    },
    {
      "cell_type": "markdown",
      "source": [
        "объединение видео в один ролик"
      ],
      "metadata": {
        "id": "XKKChofrFani"
      }
    },
    {
      "cell_type": "code",
      "source": [
        "clips = [VideoFileClip(p).resize(height=360) for p in processed_paths]\n",
        "final_clip = concatenate_videoclips(clips)\n",
        "final_clip.write_videofile(\"/content/minecraft_intro.mp4\", codec='libx264', audio_codec='aac')\n",
        "\n",
        "# Освобождение ресурсов\n",
        "for c in clips:\n",
        "    c.close()\n",
        "final_clip.close()"
      ],
      "metadata": {
        "colab": {
          "base_uri": "https://localhost:8080/"
        },
        "id": "mohYqHc6Fe22",
        "outputId": "85eeefcc-89cb-4cf3-b24a-eee9d4249119"
      },
      "execution_count": null,
      "outputs": [
        {
          "output_type": "stream",
          "name": "stdout",
          "text": [
            "Moviepy - Building video /content/minecraft_intro.mp4.\n",
            "MoviePy - Writing audio in minecraft_introTEMP_MPY_wvf_snd.mp4\n"
          ]
        },
        {
          "output_type": "stream",
          "name": "stderr",
          "text": []
        },
        {
          "output_type": "stream",
          "name": "stdout",
          "text": [
            "MoviePy - Done.\n",
            "Moviepy - Writing video /content/minecraft_intro.mp4\n",
            "\n"
          ]
        },
        {
          "output_type": "stream",
          "name": "stderr",
          "text": []
        },
        {
          "output_type": "stream",
          "name": "stdout",
          "text": [
            "Moviepy - Done !\n",
            "Moviepy - video ready /content/minecraft_intro.mp4\n"
          ]
        }
      ]
    }
  ]
}